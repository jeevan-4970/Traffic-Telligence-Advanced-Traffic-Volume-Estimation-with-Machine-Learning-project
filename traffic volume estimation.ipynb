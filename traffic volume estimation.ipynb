{
 "cells": [
  {
   "cell_type": "code",
   "execution_count": null,
   "metadata": {},
   "outputs": [],
   "source": [
    "import pandas as pd\n",
    "import numpy as np\n",
    "import matplotlib.pyplot as plt\n",
    "import seaborn as sns\n",
    "from sklearn.model_selection import train_test_split\n",
    "from sklearn.ensemble import RandomForestRegressor\n",
    "from sklearn.metrics import mean_squared_error\n",
    "\n",
    "df = pd.read_csv(\"traffic volume.csv\")\n",
    "df['datetime'] = pd.to_datetime(df['date'] + ' ' + df['Time'])\n",
    "\n",
    "df['year'] = df['datetime'].dt.year\n",
    "df['month'] = df['datetime'].dt.month\n",
    "df['day'] = df['datetime'].dt.day\n",
    "df['hours'] = df['datetime'].dt.hour\n",
    "df['minutes'] = df['datetime'].dt.minute\n",
    "df['seconds'] = df['datetime'].dt.second\n",
    "\n",
    "df = df.drop(columns=['date', 'Time', 'datetime'])\n",
    "df['holiday'] = df['holiday'].astype('category').cat.codes\n",
    "df['weather'] = df['weather'].astype('category').cat.codes\n",
    "df.dropna(inplace=True)\n",
    "\n",
    "features = ['holiday', 'temp', 'rain', 'snow', 'weather',\n",
    "            'year', 'month', 'day', 'hours', 'minutes', 'seconds']\n",
    "X = df[features]\n",
    "y = df['traffic_volume']\n",
    "\n",
    "X_train, X_test, y_train, y_test = train_test_split(X, y, test_size=0.2, random_state=42)\n",
    "model = RandomForestRegressor(n_estimators=100, random_state=42)\n",
    "model.fit(X_train, y_train)\n",
    "y_pred = model.predict(X_test)\n",
    "\n",
    "rmse = mean_squared_error(y_test, y_pred, squared=False)\n",
    "print(\"RMSE:\", rmse)"
   ]
  }
 ],
 "metadata": {
  "kernelspec": {
   "display_name": "Python 3",
   "language": "python",
   "name": "python3"
  },
  "language_info": {
   "name": "python",
   "version": "3.10"
  }
 },
 "nbformat": 4,
 "nbformat_minor": 2
}
import pandas as pd
import numpy as np
import matplotlib.pyplot as plt
import seaborn as sns
from sklearn.ensemble import RandomForestRegressor
from sklearn.model_selection import train_test_split
from sklearn.metrics import mean_squared_error, r2_score

# Load dataset
df = pd.read_csv("/mnt/data/traffic volume (1).csv")

# Convert date and time
df['datetime'] = pd.to_datetime(df['date'] + ' ' + df['Time'])
df['year'] = df['datetime'].dt.year
df['month'] = df['datetime'].dt.month
df['day'] = df['datetime'].dt.day
df['hours'] = df['datetime'].dt.hour
df['minutes'] = df['datetime'].dt.minute
df['seconds'] = df['datetime'].dt.second

# Drop original date and time
df.drop(columns=['date', 'Time', 'datetime'], inplace=True)

# Encode categorical features
df['holiday'] = df['holiday'].astype('category').cat.codes
df['weather'] = df['weather'].astype('category').cat.codes

# Drop missing values
df.dropna(inplace=True)

# Prepare features and target
features = ['holiday', 'temp', 'rain', 'snow', 'weather',
            'year', 'month', 'day', 'hours', 'minutes', 'seconds']
target = 'traffic_volume'
X = df[features]
y = df[target]

# Train-test split
X_train, X_test, y_train, y_test = train_test_split(X, y, test_size=0.2, random_state=42)

# Train model
model = RandomForestRegressor(n_estimators=100, random_state=42)
model.fit(X_train, y_train)

# Predictions
y_pred = model.predict(X_test)

# Evaluation
mse = mean_squared_error(y_test, y_pred)
r2 = r2_score(y_test, y_pred)

# Sample of actual vs predicted
comparison_df = pd.DataFrame({'Actual': y_test.values[:10], 'Predicted': y_pred[:10]})

# Output first part before continuing to keep cells manageable
df.shape, df.head(), comparison_df, mse, r2

